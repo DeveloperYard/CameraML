{
 "cells": [
  {
   "cell_type": "code",
   "execution_count": 56,
   "id": "ebe9ad21",
   "metadata": {},
   "outputs": [
    {
     "name": "stdout",
     "output_type": "stream",
     "text": [
      "1603\n"
     ]
    }
   ],
   "source": [
    "import requests\n",
    " \n",
    "try:\n",
    "    url = 'http://localhost:3000/upload'\n",
    "    file = open('/Users/seungwookim/ML/asset/images/apartment_num_test2.jpg', 'rb')\n",
    "    # file = open('Image path', 'rb')\n",
    "    uploadFile = {'uploadFile': file}\n",
    "    r = requests.post(url, files=uploadFile)\n",
    "    resContent = int(r.json()['detectionValue'])\n",
    "    # key value detection\n",
    "    print(resContent)\n",
    "except DetectionError:\n",
    "    print(DetectionError)"
   ]
  }
 ],
 "metadata": {
  "kernelspec": {
   "display_name": "Python 3 (ipykernel)",
   "language": "python",
   "name": "python3"
  },
  "language_info": {
   "codemirror_mode": {
    "name": "ipython",
    "version": 3
   },
   "file_extension": ".py",
   "mimetype": "text/x-python",
   "name": "python",
   "nbconvert_exporter": "python",
   "pygments_lexer": "ipython3",
   "version": "3.10.0"
  }
 },
 "nbformat": 4,
 "nbformat_minor": 5
}
